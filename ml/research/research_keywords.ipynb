{
 "cells": [
  {
   "cell_type": "code",
   "execution_count": 1,
   "metadata": {},
   "outputs": [],
   "source": [
    "import re\n",
    "\n",
    "import numpy as np \n",
    "import pandas as pd\n"
   ]
  },
  {
   "cell_type": "code",
   "execution_count": 4,
   "metadata": {},
   "outputs": [],
   "source": [
    "DATA_PATH = \"../data/all_tickets.csv\"\n",
    "\n",
    "PRIORITY_COLUMN = \"urgency\"\n",
    "\n",
    "TICKET_TYPES = {0: \"incident\", 1: \"request\"}\n",
    "\n",
    "CATEGORIES = {\n",
    "    0: \"lacking information\",\n",
    "    6: \"access\",\n",
    "    5: \"hardware\",\n",
    "    4: \"action\",\n",
    "    7: \"location\",\n",
    "    11: \"access card\",\n",
    "    8: \"database\",\n",
    "    9: \"purchase\",\n",
    "}\n",
    "\n",
    "DESCRIPTION_REGEX = re.compile(\"(\\W|\\d)+\")"
   ]
  },
  {
   "cell_type": "code",
   "execution_count": 5,
   "metadata": {},
   "outputs": [
    {
     "data": {
      "text/plain": "                                   title  \\\n0                                    NaN   \n1                   connection with icon   \n2                   work experience user   \n3                 requesting for meeting   \n4  reset passwords for external accounts   \n\n                                                body  ticket_type  category  \\\n0  hi since recruiter lead permission approve req...            1         4   \n1  icon dear please setup icon per icon engineers...            1         6   \n2  work experience user hi work experience studen...            1         5   \n3  requesting meeting hi please help follow equip...            1         5   \n4  re expire days hi ask help update passwords co...            1         4   \n\n   sub_category1  sub_category2  business_service  urgency  impact  \n0              2             21                71        3       4  \n1             22              7                26        3       4  \n2             13              7                32        3       4  \n3             13              7                32        3       4  \n4              2             76                 4        3       4  ",
      "text/html": "<div>\n<style scoped>\n    .dataframe tbody tr th:only-of-type {\n        vertical-align: middle;\n    }\n\n    .dataframe tbody tr th {\n        vertical-align: top;\n    }\n\n    .dataframe thead th {\n        text-align: right;\n    }\n</style>\n<table border=\"1\" class=\"dataframe\">\n  <thead>\n    <tr style=\"text-align: right;\">\n      <th></th>\n      <th>title</th>\n      <th>body</th>\n      <th>ticket_type</th>\n      <th>category</th>\n      <th>sub_category1</th>\n      <th>sub_category2</th>\n      <th>business_service</th>\n      <th>urgency</th>\n      <th>impact</th>\n    </tr>\n  </thead>\n  <tbody>\n    <tr>\n      <th>0</th>\n      <td>NaN</td>\n      <td>hi since recruiter lead permission approve req...</td>\n      <td>1</td>\n      <td>4</td>\n      <td>2</td>\n      <td>21</td>\n      <td>71</td>\n      <td>3</td>\n      <td>4</td>\n    </tr>\n    <tr>\n      <th>1</th>\n      <td>connection with icon</td>\n      <td>icon dear please setup icon per icon engineers...</td>\n      <td>1</td>\n      <td>6</td>\n      <td>22</td>\n      <td>7</td>\n      <td>26</td>\n      <td>3</td>\n      <td>4</td>\n    </tr>\n    <tr>\n      <th>2</th>\n      <td>work experience user</td>\n      <td>work experience user hi work experience studen...</td>\n      <td>1</td>\n      <td>5</td>\n      <td>13</td>\n      <td>7</td>\n      <td>32</td>\n      <td>3</td>\n      <td>4</td>\n    </tr>\n    <tr>\n      <th>3</th>\n      <td>requesting for meeting</td>\n      <td>requesting meeting hi please help follow equip...</td>\n      <td>1</td>\n      <td>5</td>\n      <td>13</td>\n      <td>7</td>\n      <td>32</td>\n      <td>3</td>\n      <td>4</td>\n    </tr>\n    <tr>\n      <th>4</th>\n      <td>reset passwords for external accounts</td>\n      <td>re expire days hi ask help update passwords co...</td>\n      <td>1</td>\n      <td>4</td>\n      <td>2</td>\n      <td>76</td>\n      <td>4</td>\n      <td>3</td>\n      <td>4</td>\n    </tr>\n  </tbody>\n</table>\n</div>"
     },
     "execution_count": 5,
     "metadata": {},
     "output_type": "execute_result"
    }
   ],
   "source": [
    "df = pd.read_csv(DATA_PATH)\n",
    "df.head()"
   ]
  },
  {
   "cell_type": "code",
   "execution_count": 6,
   "metadata": {},
   "outputs": [
    {
     "data": {
      "text/plain": "4     34061\n5      9634\n6      2628\n7       921\n11      612\n8       239\n9       191\n3       137\n1        72\n12       45\n0         4\n2         3\n10        2\nName: category, dtype: int64"
     },
     "execution_count": 6,
     "metadata": {},
     "output_type": "execute_result"
    }
   ],
   "source": [
    "df['category'].value_counts()"
   ]
  },
  {
   "cell_type": "code",
   "execution_count": 7,
   "metadata": {},
   "outputs": [
    {
     "data": {
      "text/plain": "                                   title  \\\n0                                          \n1                   connection with icon   \n2                   work experience user   \n3                 requesting for meeting   \n4  reset passwords for external accounts   \n\n                                                body  ticket_type  category  \\\n0  hi since recruiter lead permission approve req...            1         4   \n1  icon dear please setup icon per icon engineers...            1         6   \n2  work experience user hi work experience studen...            1         5   \n3  requesting meeting hi please help follow equip...            1         5   \n4  re expire days hi ask help update passwords co...            1         4   \n\n   urgency  impact  \n0        3       4  \n1        3       4  \n2        3       4  \n3        3       4  \n4        3       4  ",
      "text/html": "<div>\n<style scoped>\n    .dataframe tbody tr th:only-of-type {\n        vertical-align: middle;\n    }\n\n    .dataframe tbody tr th {\n        vertical-align: top;\n    }\n\n    .dataframe thead th {\n        text-align: right;\n    }\n</style>\n<table border=\"1\" class=\"dataframe\">\n  <thead>\n    <tr style=\"text-align: right;\">\n      <th></th>\n      <th>title</th>\n      <th>body</th>\n      <th>ticket_type</th>\n      <th>category</th>\n      <th>urgency</th>\n      <th>impact</th>\n    </tr>\n  </thead>\n  <tbody>\n    <tr>\n      <th>0</th>\n      <td></td>\n      <td>hi since recruiter lead permission approve req...</td>\n      <td>1</td>\n      <td>4</td>\n      <td>3</td>\n      <td>4</td>\n    </tr>\n    <tr>\n      <th>1</th>\n      <td>connection with icon</td>\n      <td>icon dear please setup icon per icon engineers...</td>\n      <td>1</td>\n      <td>6</td>\n      <td>3</td>\n      <td>4</td>\n    </tr>\n    <tr>\n      <th>2</th>\n      <td>work experience user</td>\n      <td>work experience user hi work experience studen...</td>\n      <td>1</td>\n      <td>5</td>\n      <td>3</td>\n      <td>4</td>\n    </tr>\n    <tr>\n      <th>3</th>\n      <td>requesting for meeting</td>\n      <td>requesting meeting hi please help follow equip...</td>\n      <td>1</td>\n      <td>5</td>\n      <td>3</td>\n      <td>4</td>\n    </tr>\n    <tr>\n      <th>4</th>\n      <td>reset passwords for external accounts</td>\n      <td>re expire days hi ask help update passwords co...</td>\n      <td>1</td>\n      <td>4</td>\n      <td>3</td>\n      <td>4</td>\n    </tr>\n  </tbody>\n</table>\n</div>"
     },
     "execution_count": 7,
     "metadata": {},
     "output_type": "execute_result"
    }
   ],
   "source": [
    "MIN_CATEGORY_COUNT = 150\n",
    "\n",
    "selected_categories = set(\n",
    "    map(\n",
    "        lambda c: c[0],\n",
    "        filter(\n",
    "            lambda i: i[1] >= MIN_CATEGORY_COUNT,\n",
    "            enumerate(df.category.value_counts().sort_index().values),\n",
    "        ),\n",
    "    )\n",
    ")\n",
    "selected_categories\n",
    "\n",
    "df = df[df.category.isin(selected_categories)]\n",
    "df = df.drop([\"sub_category1\", \"sub_category2\", \"business_service\"], axis=1)\n",
    "df[\"title\"] = df.title.fillna(\"\")\n",
    "df = df[~df.title.isna()]\n",
    "df.head()"
   ]
  },
  {
   "cell_type": "code",
   "execution_count": 8,
   "metadata": {},
   "outputs": [
    {
     "name": "stdout",
     "output_type": "stream",
     "text": [
      "Keywords:  1 \n",
      " ['availability', 'available', 'resource', 'resources', 'database', 'databases', 'nodes', 'node', 'warning', 'warn']\n",
      "Keywords:  2 \n",
      " ['change switch', 'changed', 'issue', 'stack issues', 'standby']\n",
      "Keywords:  3 \n",
      " ['implemented', 'change', 'changes', 'july', 'date', 'attachments']\n",
      "Keywords:  4 \n",
      " ['working', 'work', 'signed', 'signing', 'sign', 'thank', 'thanks', 'agreed', 'agree', 'entities', 'entity']\n",
      "Keywords:  5 \n",
      " ['connect', 'connected', 'thanks', 'hi', 'attached', 'attachments', 'change']\n"
     ]
    }
   ],
   "source": [
    "import summa\n",
    "\n",
    "longest = df[\"body\"].sort_values(key=lambda w: w.apply(len)).values[-5:]\n",
    "\n",
    "for j, txt in enumerate(longest):\n",
    "    print(\n",
    "        \"Keywords: \",\n",
    "        str(j + 1),\n",
    "        \"\\n\",\n",
    "        (summa.keywords.keywords(txt, words=5)).split(\"\\n\"),\n",
    "    )\n"
   ]
  },
  {
   "cell_type": "code",
   "execution_count": 9,
   "metadata": {},
   "outputs": [
    {
     "name": "stdout",
     "output_type": "stream",
     "text": [
      "Keywords of article 1 \n",
      " ['availability', 'capture', 'err', 'replica', 'secondary']\n",
      "Keywords of article 2 \n",
      " ['interface', 'changed', 'link', 'protocol', 'switch']\n",
      "Keywords of article 3 \n",
      " ['attachments', 'recipient', 'information', 'implemented', 'accept']\n",
      "Keywords of article 4 \n",
      " ['section', 'description', 'revisions', 'december', 'germany']\n",
      "Keywords of article 5 \n",
      " ['attachments', 'information', 'recipient', 'accept', 'intended']\n"
     ]
    }
   ],
   "source": [
    "from yake import KeywordExtractor\n",
    "\n",
    "kw_extractor = KeywordExtractor(lan=\"en\", n=1, top=5)\n",
    "\n",
    "for j, txt in enumerate(longest):\n",
    "    kw  = kw_extractor.extract_keywords(text=txt)\n",
    "    kw = [x for x, y in kw]\n",
    "    print(\"Keywords of article\", str(j+1), \"\\n\", kw)"
   ]
  },
  {
   "cell_type": "code",
   "execution_count": 10,
   "metadata": {},
   "outputs": [
    {
     "name": "stdout",
     "output_type": "stream",
     "text": [
      "Keywords 1 \n",
      " [('thank engineer thursday', 0.5444), ('poll running primary', 0.194), ('high memory cpu', 0.3095), ('extensions recent upgrade', 0.4304), ('boring technical details', 0.0174)]\n",
      "Keywords 2 \n",
      " [('engineer ext tuesday', 0.5558), ('lot users best', 0.058), ('slot protocol interface', 0.1952), ('reason failure destroyed', 0.1375), ('confirmation election elect', 0.3319)]\n",
      "Keywords 3 \n",
      " [('mob july change', 0.4547), ('award winning portfolio', 0.2323), ('effort free viruses', 0.2795), ('registered address canada', 0.2263), ('relationship manager wales', 0.1634)]\n",
      "Keywords 4 \n",
      " [('engineer wednesday pm', 0.5429), ('hi excited looking', 0.0559), ('destroyed signed contracts', 0.388), ('wife expecting child', 0.3044), ('best counsel germany', 0.2621)]\n",
      "Keywords 5 \n",
      " [('upgrades replacements definitely', 0.5288), ('st december october', 0.3877), ('filtering user traffic', 0.3009), ('largest multimedia publishers', 0.1482), ('attachments strictly prohibited', 0.0354)]\n"
     ]
    }
   ],
   "source": [
    "from keybert import KeyBERT\n",
    "\n",
    "bertkw = KeyBERT('distilbert-base-nli-mean-tokens')\n",
    "for j, txt in enumerate(longest):\n",
    "    keywords = bertkw.extract_keywords(txt, keyphrase_ngram_range=(3, 3), stop_words='english', \n",
    "                           use_mmr=True, diversity=0.75)\n",
    "    print(\"Keywords\", str(j+1), \"\\n\", keywords)"
   ]
  }
 ],
 "metadata": {
  "kernelspec": {
   "name": "python3",
   "language": "python",
   "display_name": "Python 3"
  },
  "language_info": {
   "codemirror_mode": {
    "name": "ipython",
    "version": 3
   },
   "file_extension": ".py",
   "mimetype": "text/x-python",
   "name": "python",
   "nbconvert_exporter": "python",
   "pygments_lexer": "ipython3",
   "version": "3.9.2"
  },
  "orig_nbformat": 2
 },
 "nbformat": 4,
 "nbformat_minor": 2
}